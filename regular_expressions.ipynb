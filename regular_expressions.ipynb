{
  "nbformat": 4,
  "nbformat_minor": 0,
  "metadata": {
    "colab": {
      "name": "regular_expressions.ipynb",
      "provenance": [],
      "collapsed_sections": [],
      "authorship_tag": "ABX9TyMeBoQq5RwGlPvnHP5jbruS",
      "include_colab_link": true
    },
    "kernelspec": {
      "name": "python3",
      "display_name": "Python 3"
    },
    "language_info": {
      "name": "python"
    }
  },
  "cells": [
    {
      "cell_type": "markdown",
      "metadata": {
        "id": "view-in-github",
        "colab_type": "text"
      },
      "source": [
        "<a href=\"https://colab.research.google.com/github/Gayan830/python/blob/main/regular_expressions.ipynb\" target=\"_parent\"><img src=\"https://colab.research.google.com/assets/colab-badge.svg\" alt=\"Open In Colab\"/></a>"
      ]
    },
    {
      "cell_type": "markdown",
      "source": [
        "### Regular expression"
      ],
      "metadata": {
        "id": "B16JE40S5Ofv"
      }
    },
    {
      "cell_type": "markdown",
      "source": [
        "##### **Importing regular expression**"
      ],
      "metadata": {
        "id": "eFfl1PXy5aNw"
      }
    },
    {
      "cell_type": "code",
      "execution_count": 1,
      "metadata": {
        "id": "QKpyT4v6PZuB"
      },
      "outputs": [],
      "source": [
        "import re"
      ]
    },
    {
      "cell_type": "markdown",
      "source": [
        "##### **Using match function to match beginning of a string.**"
      ],
      "metadata": {
        "id": "9ZRDqjOD5j_6"
      }
    },
    {
      "cell_type": "code",
      "source": [
        "str = 'mango' \n",
        "re.match(r\"mango\",str)"
      ],
      "metadata": {
        "colab": {
          "base_uri": "https://localhost:8080/"
        },
        "id": "CcKuCWtV6IdP",
        "outputId": "f2b777b9-62a8-4f88-dace-2e70c6dfd2c0"
      },
      "execution_count": 3,
      "outputs": [
        {
          "output_type": "execute_result",
          "data": {
            "text/plain": [
              "<re.Match object; span=(0, 5), match='mango'>"
            ]
          },
          "metadata": {},
          "execution_count": 3
        }
      ]
    },
    {
      "cell_type": "markdown",
      "source": [
        "Matching word 'Mango' or 'mango'"
      ],
      "metadata": {
        "id": "lureO7qj7XfT"
      }
    },
    {
      "cell_type": "code",
      "source": [
        "str = \"Mango\"\n",
        "re.match(r\"[Mm]ango\", str)"
      ],
      "metadata": {
        "colab": {
          "base_uri": "https://localhost:8080/"
        },
        "id": "56EcMiNI6ce7",
        "outputId": "86290667-ab02-465e-d624-db2edb572f5f"
      },
      "execution_count": 4,
      "outputs": [
        {
          "output_type": "execute_result",
          "data": {
            "text/plain": [
              "<re.Match object; span=(0, 5), match='Mango'>"
            ]
          },
          "metadata": {},
          "execution_count": 4
        }
      ]
    },
    {
      "cell_type": "markdown",
      "source": [
        "Matching banana or mango starting either a capital or simple letter"
      ],
      "metadata": {
        "id": "LjJY0pJo7OOq"
      }
    },
    {
      "cell_type": "code",
      "source": [
        "fruit = \"banana\"\n",
        "re.match(r\"[Mm]ango|[Bb]anana\",fruit)"
      ],
      "metadata": {
        "colab": {
          "base_uri": "https://localhost:8080/"
        },
        "id": "jt6RL_gV6wWE",
        "outputId": "6a2a8fc0-c777-468e-feb6-94400ee8fb90"
      },
      "execution_count": 6,
      "outputs": [
        {
          "output_type": "execute_result",
          "data": {
            "text/plain": [
              "<re.Match object; span=(0, 6), match='banana'>"
            ]
          },
          "metadata": {},
          "execution_count": 6
        }
      ]
    },
    {
      "cell_type": "markdown",
      "source": [
        "Creating a regular expression for checking valid variable name"
      ],
      "metadata": {
        "id": "B2KfuSY_7nOk"
      }
    },
    {
      "cell_type": "markdown",
      "source": [
        "\n",
        "\n",
        "1.   a-z matches characters simple a to z\n",
        "2.   0-9 matches numbers 0 to 9.\n",
        "3.   \"[ ]\" anything can be matched inside the bracket\n",
        "4.   \\Z denote end of the string.\n",
        "5.   '*' Matches zero or more previous RE \n",
        "\n",
        "\n",
        "\n",
        "\n"
      ],
      "metadata": {
        "id": "ecBikfiO8XnO"
      }
    },
    {
      "cell_type": "code",
      "source": [
        "re.match(r\"[A-Za-z][A-Za-z0-9_]*\\Z\", \"A1\")"
      ],
      "metadata": {
        "colab": {
          "base_uri": "https://localhost:8080/"
        },
        "id": "oqdum2z07EFl",
        "outputId": "53a36126-0c4e-47aa-829f-d99a7f8d5160"
      },
      "execution_count": 8,
      "outputs": [
        {
          "output_type": "execute_result",
          "data": {
            "text/plain": [
              "<re.Match object; span=(0, 2), match='A1'>"
            ]
          },
          "metadata": {},
          "execution_count": 8
        }
      ]
    },
    {
      "cell_type": "code",
      "source": [
        "re.match(r'[a-zA-z]\\w*\\Z', 'ab9320')"
      ],
      "metadata": {
        "colab": {
          "base_uri": "https://localhost:8080/"
        },
        "id": "OrzXbxVL977R",
        "outputId": "a221e874-0bb6-41cc-e542-ef5a4ccf9301"
      },
      "execution_count": 9,
      "outputs": [
        {
          "output_type": "execute_result",
          "data": {
            "text/plain": [
              "<re.Match object; span=(0, 6), match='ab9320'>"
            ]
          },
          "metadata": {},
          "execution_count": 9
        }
      ]
    },
    {
      "cell_type": "markdown",
      "source": [
        "##### **find and search functions**"
      ],
      "metadata": {
        "id": "pxCtXT3Y-W3t"
      }
    },
    {
      "cell_type": "code",
      "source": [
        "print(re.search(r'\\bback',\"back to school\"))\n",
        "print(re.search(r'\\bback',\"back\"))\n",
        "print(re.search(r'\\bback',\"get back\"))\n",
        "print(re.match(r'\\Bfoo',\" afootball \"))"
      ],
      "metadata": {
        "id": "HAs3t_Uz_GDR",
        "outputId": "099dd61b-f828-4abd-884e-02d5e6c59ab1",
        "colab": {
          "base_uri": "https://localhost:8080/"
        }
      },
      "execution_count": 33,
      "outputs": [
        {
          "output_type": "stream",
          "name": "stdout",
          "text": [
            "<re.Match object; span=(0, 4), match='back'>\n",
            "<re.Match object; span=(0, 4), match='back'>\n",
            "<re.Match object; span=(4, 8), match='back'>\n",
            "None\n"
          ]
        }
      ]
    },
    {
      "cell_type": "code",
      "source": [
        "str = \"10 . Doing things, -26 going home, 01 staying awake, sleeping later\"\n",
        "re.findall(r'\\w+ing\\b',str)"
      ],
      "metadata": {
        "colab": {
          "base_uri": "https://localhost:8080/"
        },
        "id": "cZGVk8Ut-c_k",
        "outputId": "af081dae-5908-4d0d-8fad-5d3d7fb50f61"
      },
      "execution_count": 43,
      "outputs": [
        {
          "output_type": "execute_result",
          "data": {
            "text/plain": [
              "['Doing', 'going', 'staying', 'sleeping']"
            ]
          },
          "metadata": {},
          "execution_count": 43
        }
      ]
    },
    {
      "cell_type": "code",
      "source": [
        "re.findall('[+-]?\\d+',str)"
      ],
      "metadata": {
        "id": "LfHqMPdUEelE",
        "outputId": "ac1a7e8e-9f39-4759-9178-81abf2ff2a7b",
        "colab": {
          "base_uri": "https://localhost:8080/"
        }
      },
      "execution_count": 44,
      "outputs": [
        {
          "output_type": "execute_result",
          "data": {
            "text/plain": [
              "['10', '-26', '01']"
            ]
          },
          "metadata": {},
          "execution_count": 44
        }
      ]
    }
  ]
}